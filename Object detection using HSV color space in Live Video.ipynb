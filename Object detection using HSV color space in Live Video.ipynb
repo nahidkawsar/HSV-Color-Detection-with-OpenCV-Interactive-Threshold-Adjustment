{
 "cells": [
  {
   "cell_type": "code",
   "execution_count": null,
   "id": "b80e6445",
   "metadata": {},
   "outputs": [],
   "source": [
    "import cv2\n",
    "import numpy as np\n",
    "\n",
    "\n",
    "video = cv2.VideoCapture(0)\n",
    "\n",
    "def nothing(x):\n",
    "    pass\n",
    "\n",
    "cv2.namedWindow(\"Track bar window\")\n",
    "\n",
    "cv2.createTrackbar(\"Lower_H\",\"Track bar window\",0,255,nothing)\n",
    "cv2.createTrackbar(\"Upper_H\",\"Track bar window\",255,255,nothing)\n",
    "\n",
    "cv2.createTrackbar(\"Lower_S\",\"Track bar window\",0,255,nothing)\n",
    "cv2.createTrackbar(\"Upper_S\",\"Track bar window\",255,255,nothing)\n",
    "\n",
    "cv2.createTrackbar(\"Lower_V\",\"Track bar window\",0,255,nothing)\n",
    "cv2.createTrackbar(\"Upper_V\",\"Track bar window\",255,255,nothing)\n",
    "\n",
    "\n",
    "while True:\n",
    "    \n",
    "    ret, frame = video.read()\n",
    "    \n",
    "    #Converting our colore formate from BGR to HSV\n",
    "    hsv = cv2.cvtColor(frame, cv2.COLOR_BGR2HSV)\n",
    "    \n",
    "    #Getting the values of the trackbars\n",
    "    \n",
    "    Lower_H=cv2.getTrackbarPos(\"Lower_H\",\"Track bar window\")\n",
    "    Upper_H=cv2.getTrackbarPos(\"Upper_H\",\"Track bar window\")\n",
    "    \n",
    "    Lower_S=cv2.getTrackbarPos(\"Lower_S\",\"Track bar window\")\n",
    "    Upper_S=cv2.getTrackbarPos(\"Upper_S\",\"Track bar window\")\n",
    "    \n",
    "    Lower_V=cv2.getTrackbarPos(\"Lower_V\",\"Track bar window\")\n",
    "    Upper_V=cv2.getTrackbarPos(\"Upper_V\",\"Track bar window\")\n",
    "\n",
    "    \n",
    "   #The color we wanna get from the image we have to put the higher and lower value(Brightness).we can get them manually forom any color picker\n",
    "    l_v = np.array([Lower_H,Lower_S,Lower_V])\n",
    "    u_v = np.array([Upper_H,Upper_S,Upper_V])\n",
    "    \n",
    "    #Creating Mask\n",
    "    mask = cv2.inRange(hsv, l_v, u_v)\n",
    "    \n",
    "    \n",
    "    #filter mask with image\n",
    "    Final_Video = cv2.bitwise_and(frame, frame, mask=mask)\n",
    "\n",
    "    cv2.imshow(\"frame\", frame)\n",
    "    cv2.imshow(\"mask\", mask)\n",
    "    cv2.imshow(\"Final_image\", Final_Video)\n",
    "\n",
    "    key = cv2.waitKey(1)\n",
    "    if key == 27:\n",
    "        break\n",
    "        \n",
    "        \n",
    "video.release()\n",
    "cv2.destroyAllWindows()"
   ]
  }
 ],
 "metadata": {
  "kernelspec": {
   "display_name": "Python 3 (ipykernel)",
   "language": "python",
   "name": "python3"
  },
  "language_info": {
   "codemirror_mode": {
    "name": "ipython",
    "version": 3
   },
   "file_extension": ".py",
   "mimetype": "text/x-python",
   "name": "python",
   "nbconvert_exporter": "python",
   "pygments_lexer": "ipython3",
   "version": "3.11.5"
  },
  "varInspector": {
   "cols": {
    "lenName": 16,
    "lenType": 16,
    "lenVar": 40
   },
   "kernels_config": {
    "python": {
     "delete_cmd_postfix": "",
     "delete_cmd_prefix": "del ",
     "library": "var_list.py",
     "varRefreshCmd": "print(var_dic_list())"
    },
    "r": {
     "delete_cmd_postfix": ") ",
     "delete_cmd_prefix": "rm(",
     "library": "var_list.r",
     "varRefreshCmd": "cat(var_dic_list()) "
    }
   },
   "types_to_exclude": [
    "module",
    "function",
    "builtin_function_or_method",
    "instance",
    "_Feature"
   ],
   "window_display": false
  }
 },
 "nbformat": 4,
 "nbformat_minor": 5
}
